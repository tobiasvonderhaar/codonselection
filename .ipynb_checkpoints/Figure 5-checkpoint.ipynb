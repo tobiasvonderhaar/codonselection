{
 "cells": [
  {
   "cell_type": "markdown",
   "metadata": {},
   "source": [
    "<h1>HIS3 analyses</h1>"
   ]
  },
  {
   "cell_type": "code",
   "execution_count": 5,
   "metadata": {
    "collapsed": true
   },
   "outputs": [],
   "source": [
    "import pandas as pd\n",
    "import numpy as np\n",
    "import seaborn as sns\n",
    "import matplotlib.pyplot as plt\n",
    "from statsmodels.stats.multicomp import pairwise_tukeyhsd\n",
    "from statsmodels.stats.multicomp import MultiComparison\n",
    "%run GR.py"
   ]
  },
  {
   "cell_type": "code",
   "execution_count": 2,
   "metadata": {
    "collapsed": true
   },
   "outputs": [],
   "source": [
    "GR_His1 = process_GR('120325 HIS3 variants 1.csv', normalise=False, starting_row = 8)\n",
    "GR_His2 = process_GR('120325 HIS3 variants 2.csv', normalise=False, starting_row = 8)"
   ]
  },
  {
   "cell_type": "code",
   "execution_count": 3,
   "metadata": {
    "collapsed": true
   },
   "outputs": [],
   "source": [
    "#join the two datasets\n",
    "GR_His = pd.concat([GR_His1,GR_His2],ignore_index=True)\n",
    "#remove data for emtpy wells\n",
    "GR_His = GR_His.loc[GR_His['Plasmid'] != 'empty']\n",
    "#split factor into separate factors for vector and medium\n",
    "vector,medium = [],[]\n",
    "for row in range(GR_His.shape[0]):\n",
    "    this_factor = GR_His.iloc[row].Plasmid\n",
    "    fact1,fact2 = this_factor.split(':')\n",
    "    vector.append(fact1)\n",
    "    medium.append(fact2)\n",
    "\n",
    "GR_His['Vector'] = vector\n",
    "GR_His['Medium'] = medium"
   ]
  },
  {
   "cell_type": "code",
   "execution_count": 4,
   "metadata": {},
   "outputs": [
    {
     "data": {
      "image/png": "[encoded data removed]",
      "text/plain": [
       "<matplotlib.figure.Figure at 0x2943c8b5f98>"
      ]
     },
     "metadata": {},
     "output_type": "display_data"
    }
   ],
   "source": [
    "#Plot data for the three different media\n",
    "GR_U = GR_His.loc[GR_His['Medium'] == 'U']\n",
    "GR_UH = GR_His.loc[GR_His['Medium'] == 'UH']\n",
    "GR_UHA = GR_His.loc[GR_His['Medium'] == 'UHA']\n",
    "\n",
    "f, axs = plt.subplots(3, sharex=True,sharey=True,figsize=(8,9))\n",
    "\n",
    "sns.set_style('whitegrid')\n",
    "sns.set_palette(['#000000','#555555','#aaaaaa','#dddddd'])\n",
    "\n",
    "sns.stripplot(x='Vector',y='Rel_GR',data=GR_U,jitter=True,dodge=True,order=['C','min','sta','max'], edgecolor = '#000000',linewidth=1,ax=axs[0])\n",
    "axs[0].set_title('-Ura')\n",
    "sns.stripplot(x='Vector',y='Rel_GR',data=GR_UH,jitter=True,dodge=True,order=['C','min','sta','max'], edgecolor = '#000000',linewidth=1,ax=axs[1])\n",
    "axs[1].set_title('-Ura/-His')\n",
    "sns.stripplot(x='Vector',y='Rel_GR',data=GR_UHA,jitter=True,dodge=True,order=['C','min','sta','max'], edgecolor = '#000000',linewidth=1,ax=axs[2])\n",
    "axs[2].set_title('-Ura/-His/+3-AT')\n",
    "\n",
    "plt.subplots_adjust(hspace=0.5)\n",
    "\n",
    "#plt.savefig('Figure 5.svg')\n",
    "\n",
    "plt.show()"
   ]
  },
  {
   "cell_type": "code",
   "execution_count": 22,
   "metadata": {},
   "outputs": [
    {
     "name": "stdout",
     "output_type": "stream",
     "text": [
      "  group1 group2  meandiff   lower   upper  reject\n",
      "0    C:U  max:U   -0.0110 -0.0190 -0.0029    True\n",
      "1    C:U  min:U   -0.0031 -0.0124  0.0062   False\n",
      "2    C:U  sta:U   -0.0088 -0.0169 -0.0008    True\n",
      "3  max:U  min:U    0.0079 -0.0002  0.0159   False\n",
      "4  max:U  sta:U    0.0021 -0.0044  0.0087   False\n",
      "5  min:U  sta:U   -0.0057 -0.0138  0.0023   False\n"
     ]
    }
   ],
   "source": [
    "#do statistics for comparisons with 2u:C\n",
    "alphas = [0.05,0.01,0.001]\n",
    "\n",
    "mc = MultiComparison(GR_U['Rel_GR'], GR_U['Plasmid'])\n",
    "result = mc.tukeyhsd(alpha=0.001)\n",
    "#recover the results into a data frame \n",
    "result_frame = pd.DataFrame(data=result._results_table.data[1:], columns=result._results_table.data[0])\n",
    "print(result_frame)"
   ]
  },
  {
   "cell_type": "code",
   "execution_count": 11,
   "metadata": {},
   "outputs": [
    {
     "data": {
      "text/html": [
       "<div>\n",
       "<style>\n",
       "    .dataframe thead tr:only-child th {\n",
       "        text-align: right;\n",
       "    }\n",
       "\n",
       "    .dataframe thead th {\n",
       "        text-align: left;\n",
       "    }\n",
       "\n",
       "    .dataframe tbody tr th {\n",
       "        vertical-align: top;\n",
       "    }\n",
       "</style>\n",
       "<table border=\"1\" class=\"dataframe\">\n",
       "  <thead>\n",
       "    <tr style=\"text-align: right;\">\n",
       "      <th></th>\n",
       "      <th>group1</th>\n",
       "      <th>group2</th>\n",
       "      <th>meandiff</th>\n",
       "      <th>lower</th>\n",
       "      <th>upper</th>\n",
       "      <th>reject</th>\n",
       "    </tr>\n",
       "  </thead>\n",
       "  <tbody>\n",
       "    <tr>\n",
       "      <th>0</th>\n",
       "      <td>C:U</td>\n",
       "      <td>max:U</td>\n",
       "      <td>-0.0110</td>\n",
       "      <td>-0.0293</td>\n",
       "      <td>0.0073</td>\n",
       "      <td>False</td>\n",
       "    </tr>\n",
       "    <tr>\n",
       "      <th>1</th>\n",
       "      <td>C:U</td>\n",
       "      <td>max:UH</td>\n",
       "      <td>-0.0659</td>\n",
       "      <td>-0.0895</td>\n",
       "      <td>-0.0423</td>\n",
       "      <td>True</td>\n",
       "    </tr>\n",
       "    <tr>\n",
       "      <th>2</th>\n",
       "      <td>C:U</td>\n",
       "      <td>max:UHA</td>\n",
       "      <td>-0.0690</td>\n",
       "      <td>-0.0873</td>\n",
       "      <td>-0.0507</td>\n",
       "      <td>True</td>\n",
       "    </tr>\n",
       "    <tr>\n",
       "      <th>3</th>\n",
       "      <td>C:U</td>\n",
       "      <td>min:U</td>\n",
       "      <td>-0.0031</td>\n",
       "      <td>-0.0242</td>\n",
       "      <td>0.0180</td>\n",
       "      <td>False</td>\n",
       "    </tr>\n",
       "    <tr>\n",
       "      <th>4</th>\n",
       "      <td>C:U</td>\n",
       "      <td>min:UH</td>\n",
       "      <td>-0.0552</td>\n",
       "      <td>-0.0763</td>\n",
       "      <td>-0.0341</td>\n",
       "      <td>True</td>\n",
       "    </tr>\n",
       "  </tbody>\n",
       "</table>\n",
       "</div>"
      ],
      "text/plain": [
       "  group1   group2  meandiff   lower   upper  reject\n",
       "0    C:U    max:U   -0.0110 -0.0293  0.0073   False\n",
       "1    C:U   max:UH   -0.0659 -0.0895 -0.0423    True\n",
       "2    C:U  max:UHA   -0.0690 -0.0873 -0.0507    True\n",
       "3    C:U    min:U   -0.0031 -0.0242  0.0180   False\n",
       "4    C:U   min:UH   -0.0552 -0.0763 -0.0341    True"
      ]
     },
     "execution_count": 11,
     "metadata": {},
     "output_type": "execute_result"
    }
   ],
   "source": [
    "result_frame = pd.DataFrame(data=result._results_table.data[1:], columns=result._results_table.data[0])\n",
    "result_frame.head()"
   ]
  },
  {
   "cell_type": "code",
   "execution_count": null,
   "metadata": {
    "collapsed": true
   },
   "outputs": [],
   "source": []
  }
 ],
 "metadata": {
  "kernelspec": {
   "display_name": "Python 3",
   "language": "python",
   "name": "python3"
  },
  "language_info": {
   "codemirror_mode": {
    "name": "ipython",
    "version": 3
   },
   "file_extension": ".py",
   "mimetype": "text/x-python",
   "name": "python",
   "nbconvert_exporter": "python",
   "pygments_lexer": "ipython3",
   "version": "3.6.3"
  }
 },
 "nbformat": 4,
 "nbformat_minor": 2
}

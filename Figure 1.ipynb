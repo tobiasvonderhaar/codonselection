{
 "cells": [
  {
   "cell_type": "markdown",
   "metadata": {},
   "source": [
    "<h1>Figure 1</h1>\n",
    "<p>Data for this figure are can be found in the following files: </p>\n",
    "<table>\n",
    "    <tr>\n",
    "        <th>Filename</th>\n",
    "        <th>Content</th>\n",
    "    </tr>\n",
    "    <tr>\n",
    "       <td><a href=\"RawData/120106_CFLucs_Blot1.jpg\" target=_blank>120106 CFLucs Blot1.jpg</a>, <a href=\"RawData/120110_CFLucs_Blot2.jpg\" target=_blank>120110 CFLucs Blot2.jpg</a> and <a href=\"RawData/120110_CFLucs_Blot3.jpg\" target=_blank>120110 CFLucs Blot3.jpg</a></td>\n",
    "        <td>Scanned Images of anti-firefly luciferase blots for quantification.</td>\n",
    "    </tr>    \n",
    "    <tr>\n",
    "        <td><a href=\"RawData/1201_CFLuc_Blots.csv\" target=_blank>1201 CFLuc Blots.csv</a></td>\n",
    "        <td><a href=\"https://imagej.nih.gov/ij/index.html\" target=_blank>ImageJ</a> quantifiaction data of blot images</td>\n",
    "    </tr>\n",
    "    <tr>\n",
    "        <td><a href=\"RawData/110818_2u_CEN_CFlucs.csv\" target=_blank>110818_2u_CEN_CFlucs.csv</a></td>\n",
    "        <td>Dual luciferase assay data.</td>\n",
    "    </tr>\n",
    "</table>"
   ]
  },
  {
   "cell_type": "code",
   "execution_count": 1,
   "metadata": {},
   "outputs": [
    {
     "name": "stdout",
     "output_type": "stream",
     "text": [
      "C:\\Users\\Tvon-\\Dropbox\\Python\\18 Codon Selection\\Scripts\n",
      "C:\\Users\\Tvon-\\Dropbox\\Python\\18 Codon Selection\n"
     ]
    }
   ],
   "source": [
    "import pandas as pd\n",
    "import numpy as np\n",
    "import matplotlib.pyplot as plt\n",
    "import seaborn as sns\n",
    "\n",
    "#load the function for processing luciferase data by running script lucs.py\n",
    "%cd Scripts\n",
    "%run lucs.py\n",
    "%cd .."
   ]
  },
  {
   "cell_type": "code",
   "execution_count": 2,
   "metadata": {
    "collapsed": true
   },
   "outputs": [],
   "source": [
    "#read in the blot data\n",
    "blot_data = pd.read_csv('RawData/1201_CFLuc_Blots.csv', header=1)\n",
    "\n",
    "#normalise all data to the CEN/sta mean\n",
    "norm_Signal,signal_group = [],[]\n",
    "#go through each blot\n",
    "for blot in [1,2,3]:\n",
    "    this_blot = blot_data.loc[blot_data['Blot_No'] == blot]\n",
    "    this_blot = this_blot.loc[this_blot['Vector'] == '2u']\n",
    "    norm_value = this_blot.loc[this_blot['Fluc'] == 'sta']['Signal']\n",
    "    #go through each band\n",
    "    for row in range(this_blot.shape[0]):\n",
    "        norm_Signal.append(float(this_blot.iloc[row]['Signal'] / norm_value)) \n",
    "        signal_group.append(this_blot.iloc[row]['Fluc'])\n",
    "        \n",
    "blot_results = pd.DataFrame({'Factor':signal_group,'norm_Signal':norm_Signal})\n",
    "blot_results['Experiment'] = ['2 micron Western Blot'] * blot_results.shape[0]\n",
    "\n",
    "#read in the luciferase assay results using the read_luc function defined in lucs.py\n",
    "luc_data = read_luc('RawData/110818_2u_CEN_CFlucs.csv')\n",
    "#separate the F/R ratios for the 2u and the CEN constructs\n",
    "twomicron_data = luc_data.loc[luc_data['Factor 1'] == '2u']\n",
    "CEN_data = luc_data.loc[luc_data['Factor 1'] == 'CEN']\n",
    "#for each type of construct, normalise values by the average of sta\n",
    "twomicron_normalised, CEN_normalised, twomicron_factor, CEN_factor = [],[],[],[]\n",
    "for row in range(twomicron_data.shape[0]):\n",
    "    twomicron_norm_value = np.mean(twomicron_data.loc[twomicron_data['Factor 2'] == 'sta']['FR_ratio'])\n",
    "    twomicron_normalised.append(twomicron_data.iloc[row]['FR_ratio'] / twomicron_norm_value)\n",
    "    twomicron_factor.append(twomicron_data.iloc[row]['Factor 2'])\n",
    "    \n",
    "twomicron_normalised = pd.DataFrame({'Factor':twomicron_factor,'norm_Signal':twomicron_normalised})\n",
    "twomicron_normalised['Experiment'] = ['2 micron luciferase'] * twomicron_normalised.shape[0]\n",
    "\n",
    "for row in range(CEN_data.shape[0]):    \n",
    "    CEN_norm_value = np.mean(CEN_data.loc[CEN_data['Factor 2'] == 'sta']['FR_ratio'])\n",
    "    CEN_normalised.append(CEN_data.iloc[row]['FR_ratio'] / CEN_norm_value)\n",
    "    CEN_factor.append(CEN_data.iloc[row]['Factor 2'])\n",
    "\n",
    "CEN_normalised = pd.DataFrame({'Factor':CEN_factor,'norm_Signal':CEN_normalised})\n",
    "CEN_normalised['Experiment'] = ['CEN luciferase'] * CEN_normalised.shape[0]\n",
    "\n",
    "results = pd.concat([blot_results,twomicron_normalised,CEN_normalised])\n",
    "results = results.reset_index(drop=True)"
   ]
  },
  {
   "cell_type": "code",
   "execution_count": 3,
   "metadata": {},
   "outputs": [
    {
     "data": {
      "image/png": "[encoded data removed]",
      "text/plain": [
       "<matplotlib.figure.Figure at 0x1e11874e358>"
      ]
     },
     "metadata": {},
     "output_type": "display_data"
    }
   ],
   "source": [
    "sns.set_palette(['#000000','#999999', '#ffffff'])\n",
    "sns.stripplot(x = 'Factor', y = 'norm_Signal', hue='Experiment', data = results, dodge=True, \n",
    "            order=['min','sta','max'], \n",
    "            hue_order=['CEN luciferase','2 micron luciferase','2 micron Western Blot'],\n",
    "            edgecolor = '#000000',linewidth=1,jitter=True)\n",
    "plt.xlabel('Firefly Luciferase variant')\n",
    "plt.ylabel('Expression levels (normalised to sta)')\n",
    "plt.axhline(1, ls='dashed')\n",
    "#plt.savefig('Figure 1.svg')\n",
    "plt.show()"
   ]
  },
  {
   "cell_type": "code",
   "execution_count": null,
   "metadata": {
    "collapsed": true
   },
   "outputs": [],
   "source": []
  }
 ],
 "metadata": {
  "kernelspec": {
   "display_name": "Python 3",
   "language": "python",
   "name": "python3"
  },
  "language_info": {
   "codemirror_mode": {
    "name": "ipython",
    "version": 3
   },
   "file_extension": ".py",
   "mimetype": "text/x-python",
   "name": "python",
   "nbconvert_exporter": "python",
   "pygments_lexer": "ipython3",
   "version": "3.6.3"
  }
 },
 "nbformat": 4,
 "nbformat_minor": 2
}

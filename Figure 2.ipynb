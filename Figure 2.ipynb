{
 "cells": [
  {
   "cell_type": "markdown",
   "metadata": {},
   "source": [
    "<h1>Figure 2</h1>\n",
    "<p>Data used for this figure can be found in the following files:</p>\n",
    "\n",
    "<table>\n",
    "    <tr>\n",
    "        <th></th>\n",
    "        <th></th>\n",
    "    </tr>\n",
    "    <tr>\n",
    "        <td><a href=\"RawData/110912_copy_no_qPCR.csv\" target=_blank>110912_copy_no_qPCR.csv</a></td>\n",
    "        <td>qPCR-derived Ct data on plasmid copy numbers.</td>\n",
    "    </tr>\n",
    "    <tr>\n",
    "        <td><a href=\"RawData/110818_2u_CFlucs_Growth.csv\" target=_blank>110818_2u_CFlucs_Growth.csv</a></td>\n",
    "        <td>Growth data of yeast containing the different luciferase variant 2&mu; plasmids</td>\n",
    "    </tr>\n",
    "    <tr>\n",
    "        <td><a href=\"RawData/111012_Death_Rates.csv\" target=_blank>111012 Death Rates.csv</a></td>\n",
    "        <td>Life/ dead cell counts of yeast containing the different luciferase variant 2&mu; plasmids</td>\n",
    "    </tr>\n",
    "</table>\n"
   ]
  },
  {
   "cell_type": "code",
   "execution_count": 1,
   "metadata": {},
   "outputs": [
    {
     "name": "stdout",
     "output_type": "stream",
     "text": [
      "/home/tobias/Dropbox/Python/18 Codon Selection/Scripts\n",
      "/home/tobias/Dropbox/Python/18 Codon Selection\n"
     ]
    }
   ],
   "source": [
    "import pandas as pd\n",
    "import numpy as np\n",
    "import matplotlib.pyplot as plt\n",
    "import seaborn as sns\n",
    "from statsmodels.stats.multicomp import pairwise_tukeyhsd, MultiComparison\n",
    "%cd Scripts\n",
    "%run qPCR.py\n",
    "%cd .."
   ]
  },
  {
   "cell_type": "markdown",
   "metadata": {},
   "source": [
    "<h2>Plasmid copy number</h2>"
   ]
  },
  {
   "cell_type": "code",
   "execution_count": 9,
   "metadata": {},
   "outputs": [
    {
     "data": {
      "image/png": "[encoded data removed]",
      "text/plain": [
       "<matplotlib.figure.Figure at 0x7f9c15f40a90>"
      ]
     },
     "metadata": {},
     "output_type": "display_data"
    }
   ],
   "source": [
    "#read in an process qPCR data using the process_qPCR fucntion from file qPCR.py\n",
    "qPCR_data = process_qPCR('RawData/110912_copy_no_qPCR.csv')\n",
    "#plot data \n",
    "sns.set_palette(['#000000','#777777','#bbbbbb','#ffffff'])\n",
    "sns.stripplot(x='Plasmid',y='fold_change_CEN',data=qPCR_data, \n",
    "              jitter=True, \n",
    "              order=['2u:C','2u:min','2u:sta','2u:max'],\n",
    "             edgecolor = '#000000',linewidth=1)\n",
    "plt.ylabel('Copy No Relative to CEN control')\n",
    "plt.xlabel('Plasmid')\n",
    "plt.ylim(0,25)\n",
    "#plt.savefig('Figure 2a.svg')\n",
    "plt.show()"
   ]
  },
  {
   "cell_type": "code",
   "execution_count": 3,
   "metadata": {},
   "outputs": [
    {
     "name": "stdout",
     "output_type": "stream",
     "text": [
      "         p = 0.05  p = 0.01  p = 0.001\n",
      "Plasmid                               \n",
      "2u:min       True      True      False\n",
      "2u:sta       True      True       True\n",
      "2u:max       True      True       True\n"
     ]
    }
   ],
   "source": [
    "#do statistics for comparisons with 2u:C\n",
    "alphas = [0.05,0.01,0.001]\n",
    "\n",
    "#if stats_results is alrady present in locals, delete it\n",
    "if 'stats_results' in locals():\n",
    "    del stats_results\n",
    "\n",
    "#do the statistical tests for each level defined in alphas\n",
    "for alpha in alphas:\n",
    "    #do the actual test at this level\n",
    "    mc = MultiComparison(qPCR_data['fold_change_CEN'], qPCR_data['Plasmid'])\n",
    "    result = mc.tukeyhsd(alpha=alpha)\n",
    "    #recover the results into a data frame and rename the columns\n",
    "    result_frame = pd.DataFrame(data=result._results_table.data[1:], columns=result._results_table.data[0])\n",
    "    result_frame = result_frame.loc[result_frame['group1'] == '2u:C'].iloc[:,[1,5]]\n",
    "    newcolname = \"p = \" + str(alpha)\n",
    "    result_frame = result_frame.rename(index=str, columns={\"group2\":'Plasmid',\"reject\": newcolname})\n",
    "    #add the results at this level to stats_results\n",
    "    if 'stats_results' in locals():\n",
    "        stats_results = pd.merge(stats_results, result_frame,on='Plasmid')\n",
    "    else:\n",
    "        stats_results=result_frame\n",
    "\n",
    "stats_results = stats_results.set_index('Plasmid')\n",
    "print(stats_results.reindex(['2u:min','2u:sta','2u:max']))"
   ]
  },
  {
   "cell_type": "markdown",
   "metadata": {},
   "source": [
    "<h2>Growth rate</h2>"
   ]
  },
  {
   "cell_type": "code",
   "execution_count": 4,
   "metadata": {
    "collapsed": true
   },
   "outputs": [],
   "source": [
    "raw_data = pd.read_csv('RawData/110818_2u_CFlucs_Growth.csv')\n",
    "#extract the actual data and the factors from raw_data in the order of the growth data table\n",
    "data = np.array(raw_data.iloc[6:,3:]).astype(float)\n",
    "factors = list(raw_data.iloc[6:,0])\n",
    "\n",
    "#generate matching x-values based on samples being taken every 30 minutes starting from 0\n",
    "x= np.linspace(0,(data.shape[1]-1)/2, num=data.shape[1])\n",
    "\n",
    "#define the curve fitting function\n",
    "def func(x, a, b):\n",
    "    return a * np.exp(b * x)\n",
    "\n",
    "#process windows of size window_size along the x-axis. For each window, fit data to the curve\n",
    "# and record the second parameter\n",
    "exponents = []\n",
    "window_size = 7\n",
    "\n",
    "#process all samples (rows)\n",
    "for row in range(data.shape[0]):\n",
    "    this_parameter_array = np.zeros([1,data.shape[1]+10], dtype=float)\n",
    "    window_start = 1\n",
    "    while window_start < (data.shape[1] - (window_size + 1)):\n",
    "        xdata = x[window_start:(window_start+window_size)]\n",
    "        ydata = data[row,window_start:(window_start+window_size)]\n",
    "        popt, pcov = curve_fit(func, xdata, ydata)\n",
    "        this_parameter_array[:,window_start] = popt[1]\n",
    "        window_start = window_start + 1\n",
    "\n",
    "    exponents.append(this_parameter_array.max())\n",
    "    \n",
    "#normalise exponents to control\n",
    "exponents = np.array(exponents)\n",
    "controls = [i for i, j in enumerate(factors) if j == '2u:C']\n",
    "exponents = exponents / np.mean(exponents[controls])\n",
    "\n",
    "rel_growth = pd.DataFrame({'Plasmid':factors,'Rel_GR':exponents})"
   ]
  },
  {
   "cell_type": "code",
   "execution_count": 5,
   "metadata": {
    "scrolled": true
   },
   "outputs": [
    {
     "data": {
      "image/png": "[encoded data removed]",
      "text/plain": [
       "<matplotlib.figure.Figure at 0x15f9b1f3c18>"
      ]
     },
     "metadata": {},
     "output_type": "display_data"
    }
   ],
   "source": [
    "sns.set_palette(['#000000','#777777','#bbbbbb','#ffffff'])\n",
    "sns.stripplot(x='Plasmid',y='Rel_GR',data=rel_growth,jitter=True,\n",
    "             edgecolor = '#000000',linewidth=1)\n",
    "plt.ylabel('Growth rate relative to 2u:C')\n",
    "plt.xlabel('Plasmid')\n",
    "plt.ylim(0,2)\n",
    "plt.axhline(1, ls='dashed')\n",
    "#plt.savefig('Figure 2b.svg')\n",
    "plt.show()"
   ]
  },
  {
   "cell_type": "code",
   "execution_count": 6,
   "metadata": {},
   "outputs": [
    {
     "name": "stdout",
     "output_type": "stream",
     "text": [
      "           Rel_GR\n",
      "Plasmid          \n",
      "2u:C     1.000000\n",
      "2u:max   0.842699\n",
      "2u:min   0.955868\n",
      "2u:sta   0.930603\n"
     ]
    }
   ],
   "source": [
    "print(rel_growth.groupby('Plasmid').mean())"
   ]
  },
  {
   "cell_type": "code",
   "execution_count": 7,
   "metadata": {},
   "outputs": [
    {
     "name": "stdout",
     "output_type": "stream",
     "text": [
      "         p = 0.05  p = 0.01  p = 0.001\n",
      "Plasmid                               \n",
      "2u:min      False     False      False\n",
      "2u:sta       True      True      False\n",
      "2u:max       True      True       True\n"
     ]
    }
   ],
   "source": [
    "#do statistics for comparisons with 2u:C\n",
    "alphas = [0.05,0.01,0.001]\n",
    "\n",
    "#if stats_results is alrady present in locals, delete it\n",
    "if 'stats_results' in locals():\n",
    "    del stats_results\n",
    "\n",
    "#do the statistical tests for each level defined in alphas\n",
    "for alpha in alphas:\n",
    "    #do the actual test at this level\n",
    "    mc = MultiComparison(rel_growth['Rel_GR'], rel_growth['Plasmid'])\n",
    "    result = mc.tukeyhsd(alpha=alpha)\n",
    "    #recover the results into a data frame and rename the columns\n",
    "    result_frame = pd.DataFrame(data=result._results_table.data[1:], columns=result._results_table.data[0])\n",
    "    result_frame = result_frame.loc[result_frame['group1'] == '2u:C'].iloc[:,[1,5]]\n",
    "    newcolname = \"p = \" + str(alpha)\n",
    "    result_frame = result_frame.rename(index=str, columns={\"group2\":'Plasmid',\"reject\": newcolname})\n",
    "    #add the results at this level to stats_results\n",
    "    if 'stats_results' in locals():\n",
    "        stats_results = pd.merge(stats_results, result_frame,on='Plasmid')\n",
    "    else:\n",
    "        stats_results=result_frame\n",
    "\n",
    "stats_results = stats_results.set_index('Plasmid')\n",
    "print(stats_results.reindex(['2u:min','2u:sta','2u:max']))"
   ]
  },
  {
   "cell_type": "code",
   "execution_count": null,
   "metadata": {
    "collapsed": true
   },
   "outputs": [],
   "source": []
  }
 ],
 "metadata": {
  "kernelspec": {
   "display_name": "Python 3",
   "language": "python",
   "name": "python3"
  },
  "language_info": {
   "codemirror_mode": {
    "name": "ipython",
    "version": 3
   },
   "file_extension": ".py",
   "mimetype": "text/x-python",
   "name": "python",
   "nbconvert_exporter": "python",
   "pygments_lexer": "ipython3",
   "version": "3.6.6"
  }
 },
 "nbformat": 4,
 "nbformat_minor": 2
}

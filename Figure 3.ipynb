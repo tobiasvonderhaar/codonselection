{
 "cells": [
  {
   "cell_type": "markdown",
   "metadata": {},
   "source": [
    "<h1>Figure 3</h1>\n",
    "<p>The following files contain data used in the analyses for this figure:</p>\n",
    "<table>\n",
    "    <tr>\n",
    "        <th>File</th>\n",
    "        <th>Content</th>\n",
    "    </tr>\n",
    "    <tr>\n",
    "        <td><a href=\"110930 2u STOP Copy No qPCR.csv\" target=_blank>110930 2u STOP Copy No qPCR.csv</a></td>\n",
    "        <td>qPCR-derived Ct values for 2u:C and 2u:max/2u:maxSTOP plasmids</td>\n",
    "    </tr>\n",
    "    <tr>\n",
    "        <td><a href=\"110818_2u_CFlucs_Growth.csv\" target=_blank>110818_2u_CFlucs_Growth.csv</a></td>\n",
    "        <td>Growth rate data for 2u:C and 2u:max comparison</td>\n",
    "    </tr>\n",
    "    <tr>\n",
    "        <td><a href=\"110807 Stop FLuc Growth.csv\" target=_blank>110807 Stop FLuc Growth.csv</a></td>\n",
    "        <td>Growth rate data for 2u:C and 2u:maxSTOP comparison</td>\n",
    "    </tr>\n",
    "</table>"
   ]
  },
  {
   "cell_type": "code",
   "execution_count": 1,
   "metadata": {},
   "outputs": [],
   "source": [
    "import pandas as pd\n",
    "import numpy as np\n",
    "import matplotlib.pyplot as plt\n",
    "import seaborn as sns\n",
    "from statsmodels.stats.multicomp import pairwise_tukeyhsd\n",
    "from statsmodels.stats.multicomp import MultiComparison\n",
    "#qPCR.py contains the function for processing and normalising qPCR Ct data\n",
    "%run qPCR.py\n",
    "#GR.py contains the function for determining the max growth rate from a growth curve\n",
    "%run GR.py"
   ]
  },
  {
   "cell_type": "markdown",
   "metadata": {},
   "source": [
    "<h2>qPCR data</h2>"
   ]
  },
  {
   "cell_type": "code",
   "execution_count": 2,
   "metadata": {},
   "outputs": [
    {
     "data": {
      "image/png": "[encoded data removed]",
      "text/plain": [
       "<matplotlib.figure.Figure at 0x240ab0f95f8>"
      ]
     },
     "metadata": {},
     "output_type": "display_data"
    }
   ],
   "source": [
    "#read in an process qPCR data using the process_qPCR fucntion from file qPCR.py\n",
    "qPCR_data = process_qPCR('110930 2u STOP Copy No qPCR.csv')\n",
    "#plot data \n",
    "sns.set_palette(['#000000','#999999','#ffffff'])\n",
    "sns.stripplot(x='Plasmid',y='fold_change_CEN',data=qPCR_data, \n",
    "              jitter=True, \n",
    "              order=['2u:C','2u:max','2u:maxSTOP'],\n",
    "             edgecolor = '#000000',linewidth=1)\n",
    "plt.ylabel('Copy No Relative to CEN control')\n",
    "plt.xlabel('Plasmid')\n",
    "plt.ylim(0,25)\n",
    "#plt.savefig('Figure 3a.svg')\n",
    "plt.show()"
   ]
  },
  {
   "cell_type": "code",
   "execution_count": 3,
   "metadata": {},
   "outputs": [
    {
     "name": "stdout",
     "output_type": "stream",
     "text": [
      "Tukey HSD for comparison to 2u:C (True indicates that null hypothesis is rejected)\n",
      "            p = 0.05  p = 0.01  p = 0.001\n",
      "Plasmid                                  \n",
      "2u:max          True      True      False\n",
      "2u:maxSTOP     False     False      False\n"
     ]
    }
   ],
   "source": [
    "#do statistics for comparisons with 2u:C\n",
    "alphas = [0.05,0.01,0.001]\n",
    "\n",
    "#if stats_results is alrady present in locals, delete it\n",
    "if 'stats_results' in locals():\n",
    "    del stats_results\n",
    "\n",
    "#do the statistical tests for each level defined in alphas\n",
    "for alpha in alphas:\n",
    "    #do the actual test at this level\n",
    "    mc = MultiComparison(qPCR_data['fold_change_CEN'], qPCR_data['Plasmid'])\n",
    "    result = mc.tukeyhsd(alpha=alpha)\n",
    "    #recover the results into a data frame and rename the columns\n",
    "    result_frame = pd.DataFrame(data=result._results_table.data[1:], columns=result._results_table.data[0])\n",
    "    result_frame = result_frame.loc[result_frame['group1'] == '2u:C'].iloc[:,[1,5]]\n",
    "    newcolname = \"p = \" + str(alpha)\n",
    "    result_frame = result_frame.rename(index=str, columns={\"group2\":'Plasmid',\"reject\": newcolname})\n",
    "    #add the results at this level to stats_results\n",
    "    if 'stats_results' in locals():\n",
    "        stats_results = pd.merge(stats_results, result_frame,on='Plasmid')\n",
    "    else:\n",
    "        stats_results=result_frame\n",
    "\n",
    "stats_results = stats_results.set_index('Plasmid')\n",
    "print(\"Tukey HSD for comparison to 2u:C (True indicates that null hypothesis is rejected)\")\n",
    "print(stats_results.reindex(['2u:max','2u:maxSTOP']))"
   ]
  },
  {
   "cell_type": "markdown",
   "metadata": {},
   "source": [
    "<h2>Growth rate</h2>"
   ]
  },
  {
   "cell_type": "code",
   "execution_count": 4,
   "metadata": {
    "collapsed": true
   },
   "outputs": [],
   "source": [
    "#extract relative growth rates for C and max, and for C and maxSTOP (these are in separate data files)\n",
    "GRmax = process_GR('110818_2u_CFlucs_Growth.csv')\n",
    "GRmaxstop = process_GR('110807 Stop FLuc Growth.csv')\n",
    "#discard data not relevant for this analysis (min and sta)\n",
    "GRmax = GRmax.loc[GRmax['Plasmid'].isin(['2u:C','2u:max'])]\n",
    "GRmaxstop = GRmaxstop.loc[GRmaxstop['Plasmid'].isin(['2u:C','2u:maxSTOP'])]\n",
    "\n",
    "GR = pd.concat([GRmax,GRmaxstop])"
   ]
  },
  {
   "cell_type": "code",
   "execution_count": 4,
   "metadata": {},
   "outputs": [
    {
     "data": {
      "image/png": "[encoded data removed]",
      "text/plain": [
       "<matplotlib.figure.Figure at 0x7f2fc0cf2a20>"
      ]
     },
     "metadata": {},
     "output_type": "display_data"
    }
   ],
   "source": [
    "sns.set_palette(['#000000','#999999','#ffffff'])\n",
    "sns.stripplot(x='Plasmid',y='Rel_GR',data=GR,jitter=True,\n",
    "             edgecolor = '#000000',linewidth=1)\n",
    "plt.ylabel('Growth rate relative to 2u:C')\n",
    "plt.xlabel('Plasmid')\n",
    "plt.ylim(0,2)\n",
    "plt.axhline(1, ls='dashed')\n",
    "#plt.savefig('Figure 3b.svg')\n",
    "plt.show()"
   ]
  },
  {
   "cell_type": "code",
   "execution_count": 5,
   "metadata": {},
   "outputs": [
    {
     "name": "stdout",
     "output_type": "stream",
     "text": [
      "            p = 0.05  p = 0.01  p = 0.001\n",
      "Plasmid                                  \n",
      "2u:max          True      True       True\n",
      "2u:maxSTOP      True     False      False\n"
     ]
    }
   ],
   "source": [
    "#do statistics for comparisons with 2u:C\n",
    "alphas = [0.05,0.01,0.001]\n",
    "\n",
    "#if stats_results is alrady present in locals, delete it\n",
    "if 'stats_results' in locals():\n",
    "    del stats_results\n",
    "\n",
    "#do the statistical tests for each level defined in alphas\n",
    "for alpha in alphas:\n",
    "    #do the actual test at this level\n",
    "    mc = MultiComparison(GR['Rel_GR'], GR['Plasmid'])\n",
    "    result = mc.tukeyhsd(alpha=alpha)\n",
    "    #recover the results into a data frame and rename the columns\n",
    "    result_frame = pd.DataFrame(data=result._results_table.data[1:], columns=result._results_table.data[0])\n",
    "    result_frame = result_frame.loc[result_frame['group1'] == '2u:C'].iloc[:,[1,5]]\n",
    "    newcolname = \"p = \" + str(alpha)\n",
    "    result_frame = result_frame.rename(index=str, columns={\"group2\":'Plasmid',\"reject\": newcolname})\n",
    "    #add the results at this level to stats_results\n",
    "    if 'stats_results' in locals():\n",
    "        stats_results = pd.merge(stats_results, result_frame,on='Plasmid')\n",
    "    else:\n",
    "        stats_results=result_frame\n",
    "\n",
    "stats_results = stats_results.set_index('Plasmid')\n",
    "print(stats_results.reindex(['2u:max','2u:maxSTOP']))"
   ]
  },
  {
   "cell_type": "code",
   "execution_count": null,
   "metadata": {
    "collapsed": true
   },
   "outputs": [],
   "source": []
  }
 ],
 "metadata": {
  "kernelspec": {
   "display_name": "Python 3",
   "language": "python",
   "name": "python3"
  },
  "language_info": {
   "codemirror_mode": {
    "name": "ipython",
    "version": 3
   },
   "file_extension": ".py",
   "mimetype": "text/x-python",
   "name": "python",
   "nbconvert_exporter": "python",
   "pygments_lexer": "ipython3",
   "version": "3.6.3"
  }
 },
 "nbformat": 4,
 "nbformat_minor": 2
}

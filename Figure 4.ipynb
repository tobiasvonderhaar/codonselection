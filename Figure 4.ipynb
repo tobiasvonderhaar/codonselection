{
 "cells": [
  {
   "cell_type": "markdown",
   "metadata": {},
   "source": [
    "<h1>Figure 4</h1>"
   ]
  },
  {
   "cell_type": "code",
   "execution_count": 1,
   "metadata": {},
   "outputs": [
    {
     "name": "stdout",
     "output_type": "stream",
     "text": [
      "/home/tobias/Dropbox/Python/18 Codon Selection/Scripts\n",
      "/home/tobias/Dropbox/Python/18 Codon Selection\n"
     ]
    },
    {
     "name": "stderr",
     "output_type": "stream",
     "text": [
      "/home/tobias/anaconda3/lib/python3.6/site-packages/statsmodels/compat/pandas.py:56: FutureWarning: The pandas.core.datetools module is deprecated and will be removed in a future version. Please use the pandas.tseries module instead.\n",
      "  from pandas.core import datetools\n"
     ]
    }
   ],
   "source": [
    "import pandas as pd\n",
    "import numpy as np\n",
    "import seaborn as sns\n",
    "import matplotlib.pyplot as plt\n",
    "from scipy.optimize import curve_fit\n",
    "from statsmodels.formula.api import ols\n",
    "import statsmodels.api as sm\n",
    "\n",
    "#load the function for processing growth rate data from script GR.py\n",
    "%cd Scripts\n",
    "%run GR.py\n",
    "%cd .."
   ]
  },
  {
   "cell_type": "markdown",
   "metadata": {},
   "source": [
    "<h2>Media dependence of maxCFluc growth reduction</h2>\n",
    "<p>The following files contain data used in the analyses for this figure:</p>\n",
    "<table>\n",
    "    <tr>\n",
    "        <th>File</th>\n",
    "        <th>Content</th>\n",
    "    </tr>\n",
    "    <tr>\n",
    "        <td><a href=\"RawData/110522_2uC_media_dependence.csv\" target=_blank>110522 2uC media dependence.csv</a></td>\n",
    "        <td>Growth rates for vector control yeast in media with differing supplementation.</td>\n",
    "    </tr>\n",
    "    <tr>\n",
    "    <td><a href=\"RawData/110522_2umax_media_dependence.csv\" target=_blank>110522 2umax media dependence.csv</a></td>\n",
    "        <td>Growth rates for maxFLuc expressing yeast in media with differing supplementation.</td>\n",
    "    </tr>\n",
    "</table>"
   ]
  },
  {
   "cell_type": "code",
   "execution_count": 2,
   "metadata": {
    "collapsed": true
   },
   "outputs": [],
   "source": [
    "GR_C = process_GR('RawData/110522_2uC_media_dependence.csv', normalise=False)\n",
    "GR_max = process_GR('RawData/110522_2umax_media_dependence.csv', normalise=False)\n",
    "GR = pd.concat([GR_C,GR_max], ignore_index=True)\n",
    "#normalise all values to the mean of 2u:C\n",
    "normval = np.mean(GR.loc[GR['Plasmid'] == '2u:C+NS']['Rel_GR'])\n",
    "GR['Rel_GR'] = GR['Rel_GR'] / normval\n",
    "#split the factor at the colon to separate the plasmids and growth conditions\n",
    "newcols = pd.DataFrame(GR.Plasmid.str.split('+',1).tolist(),columns = ['Plasmid','Supplementation'])\n",
    "GRsplit = pd.concat([newcols,GR['Rel_GR']],axis=1)\n",
    "#exclude cells marked as CONTAMINATION\n",
    "GRsplit = GRsplit.loc[GRsplit['Plasmid'] != 'CONTAMINATION']"
   ]
  },
  {
   "cell_type": "code",
   "execution_count": 3,
   "metadata": {},
   "outputs": [
    {
     "data": {
      "image/png": "[encoded data removed]",
      "text/plain": [
       "<matplotlib.figure.Figure at 0x1c9892d5400>"
      ]
     },
     "metadata": {},
     "output_type": "display_data"
    }
   ],
   "source": [
    "#plot data\n",
    "sns.set_palette(['#000000','#cccccc'])\n",
    "sns.stripplot(x='Supplementation',y='Rel_GR',data=GRsplit,hue='Plasmid',dodge=True,jitter=True)\n",
    "plt.ylabel('Growth Rate rel to 2u:C')\n",
    "plt.ylim(0,1.1)\n",
    "#plt.savefig('Figure 4a.svg')\n",
    "plt.show()"
   ]
  },
  {
   "cell_type": "code",
   "execution_count": 4,
   "metadata": {},
   "outputs": [
    {
     "name": "stdout",
     "output_type": "stream",
     "text": [
      "            sum_sq    df         F    PR(>F)\n",
      "Plasmid   0.002960   5.0  1.929493  0.139139\n",
      "Residual  0.005522  18.0       NaN       NaN\n"
     ]
    }
   ],
   "source": [
    "#statistics - significance of difference to unsupplemented 2u:max\n",
    "#do statistics only for the 2u:max series\n",
    "\n",
    "model = ols('Rel_GR~Plasmid',\n",
    "                data=GR_max).fit()\n",
    "                \n",
    "aov_table = sm.stats.anova_lm(model, typ=2)\n",
    "print(aov_table)"
   ]
  },
  {
   "cell_type": "markdown",
   "metadata": {},
   "source": [
    "<h1>Ribosome limitations</h1>\n",
    "<p>The following files contain data used for these analyses:</p>\n",
    "<table>\n",
    "    <tr>\n",
    "        <th width=50%>File</th>\n",
    "        <th>Content</th>\n",
    "    </tr>\n",
    "    <tr>\n",
    "        <td><a href=\"RawData/110512_2u_StaFLuc_stability_1.jpg\" target=_blank>110512 2µ StaFLuc stability 1.jpg</a>,<a href=\"RawData/110512_2u_StaFLuc_stability_2.jpg\" target=_blank>110512 2µ StaFLuc stability 2.jpg</a></td>\n",
    "        <td>Image files of anti-firefly luciferase blots following cycloheximide treatment of 2u:sta containing cells. <br /> Lane order: t0 (2 &mu;l), t0 (5 &mu;l), t40 (2 &mu;l), t40 (5 &mu;l)</td>\n",
    "    </tr>\n",
    "    <tr>\n",
    "        <td><a href=\"RawData/110512_2u_StaFLuc_Stability.csv\" target=_blank>110512 2u StaFLuc Stability.csv</a></td>\n",
    "        <td><a href=\"https://imagej.nih.gov/ij/index.html\" tagret=_blank>ImageJ</a> quantifications of 2 &mu;l band intensities of the blot images.</td>\n",
    "    </tr>\n",
    "    <tr>\n",
    "        <td><a href=\"RawData/110512_2u_StaFLuc_quanti.jpg\" target=_blank>110512 2u StaFLuc quanti.jpg</a></td>\n",
    "        <td>Image file of anti-firefly luciferase blots from quantified cell extracts, next to known amounts of purified luciferase. <br />Extract concentration was 4x10<sup>8</sup> cells per ml.<br /> Lane order: Extract 1 5 &mu;l; extract 1 2 &mu;l; extract 2 5 &mu;l; extract 2 2 &mu;l; extract 3 5 &mu;l; extract 3 2 &mu;l. Standards: Mounting 1/2 dilutions of purified luciferase (<a href=\"https://www.sigmaaldrich.com/catalog/product/sigma/l9506\" target=_blank>Sigma L9506</a>), up to 50 ng in last band. </td>\n",
    "    </tr>\n",
    "    <tr>\n",
    "        <td><a href=\"RawData/110512_2u_StaFLuc_quanti.csv\" target=_blank>110512 2u StaFLuc quanti.csv</a></td>\n",
    "        <td>ImageJ quantifications of band intensities of the blot images (2 &mu;l bands for the extracts).</td>\n",
    "    </tr>\n",
    "</table>"
   ]
  },
  {
   "cell_type": "markdown",
   "metadata": {},
   "source": [
    "<h2>Firefly luciferase synthesis rates</h2>"
   ]
  },
  {
   "cell_type": "code",
   "execution_count": 5,
   "metadata": {
    "collapsed": true
   },
   "outputs": [],
   "source": [
    "###########################estimate firefly luciferase turnover rate##########################\n",
    "#####import band intensity data\n",
    "decay_data = pd.read_csv('RawData/110512_2u_StaFLuc_Stability.csv')\n",
    "#####normalise decay data\n",
    "bands = list(decay_data['Band'])\n",
    "decay_norm = [bands[0]/bands[0], bands[1]/bands[0], bands[2]/bands[2],bands[3]/bands[2]]\n",
    "decay_data['normalised'] = decay_norm\n",
    "#####fit a global decay curve to the data\n",
    "def func(x, a):\n",
    "    return np.exp(-a * x)\n",
    "popt,pcov = curve_fit(func, decay_data['Time'], decay_data['normalised'],p0=0.005)\n",
    "Fluc_decay_rate = popt[0]"
   ]
  },
  {
   "cell_type": "code",
   "execution_count": 15,
   "metadata": {},
   "outputs": [
    {
     "data": {
      "image/png": "[encoded data removed]",
      "text/plain": [
       "<matplotlib.figure.Figure at 0x7f4ad55ac7b8>"
      ]
     },
     "metadata": {},
     "output_type": "display_data"
    },
    {
     "name": "stdout",
     "output_type": "stream",
     "text": [
      "min: 2.10E-14, sta: 4.45E-14, max: 5.94E-14 g per cell\n"
     ]
    }
   ],
   "source": [
    "#############################estimate firefly luciferase steady state abundance#########################\n",
    "blot_data = pd.read_csv('RawData/110512_2u_StaFLuc_quanti.csv')\n",
    "######plot shows two separate linear relationships. Only last three points used as samples are within this range\n",
    "fit_data = blot_data.iloc[6:,:]\n",
    "def func(x, a, b):\n",
    "    return a*x + b\n",
    "popt,pcov = curve_fit(func, fit_data['Concentration'], fit_data['Band'])\n",
    "#plot standard data with fitted curve\n",
    "plt.scatter(x = blot_data.iloc[3:,]['Concentration'], y = blot_data.iloc[3:,]['Band'])\n",
    "x=np.linspace(1,50,50)\n",
    "y=(x * popt[0] + popt[1])\n",
    "plt.plot(x,y,color='red')\n",
    "plt.xlabel('Protein on gel (ng)')\n",
    "plt.ylabel('band intensity (AU)')\n",
    "plt.show()\n",
    "######calculate concentration per cell for sta\n",
    "cell_data = blot_data.iloc[:3,:]\n",
    "#go through each replicate and calculate staLuc protein per cell (in ng)\n",
    "luc_on_gel = []\n",
    "for row in range(cell_data.shape[0]):\n",
    "    luc_on_gel.append((cell_data.iloc[row]['Band']-popt[1])/popt[0])\n",
    "luc_on_gel = np.mean(luc_on_gel)\n",
    "luc_per_cell = luc_on_gel / cell_data.iloc[1]['Concentration']\n",
    "luc_MW = 60745 #g per mole\n",
    "staLuc_molec_per_cell = luc_per_cell * 1e-9 / luc_MW *6.023e23\n",
    "#relative expression levesl for the three luciferases as determined in figure 1\n",
    "rel_levels = np.array([0.472,1.0,1.336])\n",
    "abs_levels = rel_levels * luc_per_cell * 1e-9\n",
    "print(('min: {:.2E}, sta: {:.2E}, max: {:.2E} g per cell').format(abs_levels[0],abs_levels[1],abs_levels[2]))"
   ]
  },
  {
   "cell_type": "code",
   "execution_count": 10,
   "metadata": {},
   "outputs": [
    {
     "name": "stdout",
     "output_type": "stream",
     "text": [
      "test: 2.10E-05\n"
     ]
    }
   ],
   "source": [
    "print(('test: {:.2E}').format(abs_levels[0]))"
   ]
  },
  {
   "cell_type": "code",
   "execution_count": 7,
   "metadata": {},
   "outputs": [
    {
     "data": {
      "image/png": "[encoded data removed]",
      "text/plain": [
       "<matplotlib.figure.Figure at 0x1c988d5a080>"
      ]
     },
     "metadata": {},
     "output_type": "display_data"
    }
   ],
   "source": [
    "###############################calculate synthesis rates for the three CFLuc variants\n",
    "####relative expression per cell for min, sta, max as determined in figure 1\n",
    "rel_levels = np.array([0.472,1.0,1.336])\n",
    "####relative growth rates for min, sta, max as determined in figure 2\n",
    "growth_rates = np.array([0.245125,0.238646,0.216104]) / 60\n",
    "###estimated ribosome transit times in minutes for min, sta, max from PMID 24357599\n",
    "transit_times = np.array([308.0,141.0,68.6])/60\n",
    "\n",
    "abs_levels = rel_levels * staLuc_molec_per_cell\n",
    "synthesis_frequencies = abs_levels * (growth_rates + Fluc_decay_rate)\n",
    "ribosome_load = synthesis_frequencies * transit_times\n",
    "rel_ribosome_load = ribosome_load / 185000\n",
    "\n",
    "plt.close()\n",
    "plt.bar(['1_min','2_sta','3_max'],rel_ribosome_load,color='black')\n",
    "plt.ylabel('estimated ribosome load (% of cellular pool)')\n",
    "#plt.savefig('Figure 4b.svg')\n",
    "plt.show()"
   ]
  },
  {
   "cell_type": "markdown",
   "metadata": {
    "collapsed": true
   },
   "source": [
    "<h2>Proteotoxicity</h2>\n",
    "<h3>AZC resistance</h3>\n",
    "<p>The proline analog <a href=\"https://www.sigmaaldrich.com/catalog/product/sigma/a0760\" target=_blank>AZC</a> is incorporated into nascent chains and disrupts their folding, thereby exacerbating protetoxic conditions. Growth rates in the presence of various concentrations of the drug were compared for a yeast transformed with the control plasmid of the maxFLuc expressing plasmid. A four-fold dilution series starting with an AZC concentration of 36 &mu;M was used.</p>\n",
    "\n",
    "<p>The following files contain data used for these analyses:</p>\n",
    "<table>\n",
    "    <tr>\n",
    "        <th width=50%>File</th>\n",
    "        <th>Content</th>\n",
    "    </tr>\n",
    "    <tr>\n",
    "        <td><a href=\"RawData/180608_AZC_sensitivity_maxCFLuc.csv\" target=_blank>180608 AZC sensitivity maxCFLuc.csv</a></td>\n",
    "        <td>Growth data for control vector and maxFLuc expressing yeast in the absence or presence of AZC.</td>\n",
    "    </tr>"
   ]
  },
  {
   "cell_type": "code",
   "execution_count": 8,
   "metadata": {
    "collapsed": true
   },
   "outputs": [],
   "source": [
    "#read in growth data\n",
    "GR_AZC = process_GR('RawData/180608_AZC_sensitivity_maxCFLuc.csv', normalise=False, starting_row=8)\n",
    "#remove data in contaminated wells\n",
    "GR_AZC = GR_AZC.loc[GR_AZC['Plasmid'] != 'cont']\n",
    "#switch of \"SettingWithCopyWarning\"\n",
    "pd.options.mode.chained_assignment = None \n",
    "\n",
    "#separate the factors\n",
    "GR_split = pd.DataFrame([entries.split(':') for entries in GR_AZC['Plasmid']])\n",
    "GR_split.columns=['AZC_conc_uM','Plasmid']\n",
    "GR_split['Rel_GR'] = pd.to_numeric(GR_AZC['Rel_GR'])\n",
    "GR_split['AZC_conc_uM'] = pd.to_numeric(GR_split['AZC_conc_uM'])\n",
    "GR_AZC_C = GR_split.loc[GR_split['Plasmid'] == 'C']\n",
    "GR_AZC_max = GR_split.loc[GR_split['Plasmid'] == 'max']\n",
    "\n",
    "\n",
    "########convert growth rates to dose response data\n",
    "#calculate the mean growth rate at zero AZC and use this to normalise the growth rates\n",
    "C_zero_mean = np.mean(GR_AZC_C.loc[GR_AZC_C['AZC_conc_uM'] == 0]['Rel_GR'])\n",
    "GR_AZC_C['norm_GR'] = GR_AZC_C['Rel_GR'] / C_zero_mean\n",
    "#remove data where dose = 0 to enable conversion to log scale\n",
    "GR_AZC_C = GR_AZC_C.loc[GR_AZC_C['AZC_conc_uM'] != 0]\n",
    "#Same for max data\n",
    "max_zero_mean = np.mean(GR_AZC_max.loc[GR_AZC_max['AZC_conc_uM'] == 0]['Rel_GR'])\n",
    "GR_AZC_max['norm_GR'] = GR_AZC_max['Rel_GR'] / max_zero_mean\n",
    "GR_AZC_max = GR_AZC_max.loc[GR_AZC_max['AZC_conc_uM'] != 0]\n",
    "\n",
    "\n",
    "########Do the curve fitting\n",
    "def sigmoid(x, x0, k):\n",
    "    y = 1 / (1 + np.exp(-k*(x-x0)))\n",
    "    return y\n",
    "popt_C, pcov_C = curve_fit(sigmoid, np.log10(GR_AZC_C['AZC_conc_uM']),GR_AZC_C['norm_GR'])\n",
    "perr_C = np.sqrt(np.diag(pcov_C))\n",
    "popt_max, pcov_max = curve_fit(sigmoid, np.log10(GR_AZC_max['AZC_conc_uM']),GR_AZC_max['norm_GR'])\n",
    "perr_max = np.sqrt(np.diag(pcov_max))"
   ]
  },
  {
   "cell_type": "code",
   "execution_count": 9,
   "metadata": {},
   "outputs": [
    {
     "data": {
      "image/png": "[encoded data removed]",
      "text/plain": [
       "<matplotlib.figure.Figure at 0x1c98a1dc828>"
      ]
     },
     "metadata": {},
     "output_type": "display_data"
    }
   ],
   "source": [
    "#####generate the plot\n",
    "#plot the actual data points\n",
    "plt.scatter(x=np.log10(GR_AZC_C['AZC_conc_uM']),y=GR_AZC_C['norm_GR'],color='black')\n",
    "plt.scatter(x=np.log10(GR_AZC_max['AZC_conc_uM']),y=GR_AZC_max['norm_GR'],color='grey')\n",
    "#plot the fitted models\n",
    "x = np.linspace(-2.2, 1.7, 50)\n",
    "y_C = sigmoid(x, *popt_C)\n",
    "y_max = sigmoid(x, *popt_max)\n",
    "plt.plot(x,y_C,color='black')\n",
    "plt.plot(x,y_max,color='grey')\n",
    "#add text and axis labels\n",
    "label_C = \"IC50: \" + str(\"%.3G\" %(np.exp(popt_C[0]))) + \"+/- \" + str(\"%.2G\"%(np.exp(popt_C[0]+perr_C[0])-np.exp(popt_C[0])) + \" uM\")\n",
    "plt.text(0,1,label_C,color='black')\n",
    "label_max = \"IC50: \" + str(\"%.3G\" %(np.exp(popt_max[0]))) + \"+/- \" + str(\"%.2G\"%(np.exp(popt_max[0]+perr_C[0])-np.exp(popt_max[0])) + \" uM\")\n",
    "plt.text(0,0.9,label_max,color='grey')\n",
    "plt.xlabel('AZC concentration (log, uM)')\n",
    "plt.ylabel('Relative Growth Rate')\n",
    "#plt.savefig('Figure 4d.svg')\n",
    "plt.show()"
   ]
  },
  {
   "cell_type": "markdown",
   "metadata": {
    "collapsed": true
   },
   "source": [
    "<h3>Hsp104 expression levels</h3>\n",
    "<p>The following files contain data used for these analyses:</p>\n",
    "<table>\n",
    "    <tr>\n",
    "        <th width=50%>File</th>\n",
    "        <th>Content</th>\n",
    "    </tr>\n",
    "    <tr>\n",
    "    <td><a href=\"RawData/180627_Hsp104_PGK_high.png\" target=_blank>180627_Hsp104_PGK_high.png</a>, <a href=\"RawData/180627_Hsp104_PGK_low.png\" target=_blank>180627_Hsp104_PGK_low.png</a></td>\n",
    "    <td>Images of anti-Hsp104 and anti-Pgk1 (loading control) blots at low and high exposure.</td>\n",
    "    </tr>\n",
    "    <tr>\n",
    "    <td><a href=\"RawData/180621_Hsp104.png\" target=_blank>180621_Hsp104.png</a></td>\n",
    "    <td>Image of the anti-Hsp104 blot used in figure 4E.</td>\n",
    "    </tr>\n",
    "    <tr>\n",
    "        <td><a href=\"RawData/180627_HSP104_quantification.csv\" target=_blank>180627_HSP104_quantification.csv</a></td>\n",
    "        <td>Quantification of the Hsp104/PGK blot data.</td>\n",
    "    </tr>"
   ]
  },
  {
   "cell_type": "code",
   "execution_count": 21,
   "metadata": {},
   "outputs": [
    {
     "name": "stderr",
     "output_type": "stream",
     "text": [
      "/home/tobias/anaconda3/lib/python3.6/site-packages/numpy/core/fromnumeric.py:57: FutureWarning: reshape is deprecated and will raise in a subsequent release. Please use .values.reshape(...) instead\n",
      "  return getattr(obj, method)(*args, **kwds)\n"
     ]
    },
    {
     "data": {
      "image/png": "[encoded data removed]",
      "text/plain": [
       "<matplotlib.figure.Figure at 0x7fef24869550>"
      ]
     },
     "metadata": {},
     "output_type": "display_data"
    }
   ],
   "source": [
    "#load quantification data\n",
    "HSP104 = pd.read_csv('RawData/180627_HSP104_quantification.csv')\n",
    "HSP104['ratio'] = [HSP104.HSP104.iloc[n] / HSP104.PGK1.iloc[n] for n in range(HSP104.shape[0])]\n",
    "#plot data\n",
    "plt.boxplot([HSP104.ratio.iloc[0:3],HSP104.ratio.iloc[4:]])\n",
    "plt.ylim((0,0.8))\n",
    "plt.ylabel('Hsp104/Pgk1 signal ratio')\n",
    "#plt.savefig('Hsp104_expression.svg')\n",
    "plt.show()"
   ]
  },
  {
   "cell_type": "code",
   "execution_count": null,
   "metadata": {
    "collapsed": true
   },
   "outputs": [],
   "source": []
  }
 ],
 "metadata": {
  "kernelspec": {
   "display_name": "Python 3",
   "language": "python",
   "name": "python3"
  },
  "language_info": {
   "codemirror_mode": {
    "name": "ipython",
    "version": 3
   },
   "file_extension": ".py",
   "mimetype": "text/x-python",
   "name": "python",
   "nbconvert_exporter": "python",
   "pygments_lexer": "ipython3",
   "version": "3.6.3"
  }
 },
 "nbformat": 4,
 "nbformat_minor": 2
}

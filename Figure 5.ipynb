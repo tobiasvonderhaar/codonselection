{
 "cells": [
  {
   "cell_type": "markdown",
   "metadata": {},
   "source": [
    "<h1>Figure 5</h1>\n",
    "<p>The following files contain data used in the analyses for this figure:</p>\n",
    "<table>\n",
    "    <tr>\n",
    "        <th>File</th>\n",
    "        <th>Content</th>\n",
    "    </tr>\n",
    "    <tr>\n",
    "        <td><a href=\"Raw Data/120325 HIS3 variants 1.csv\" target=_blank>120325 HIS3 variants 1.csv</a> and <a href=\"Raw Data/120325 HIS3 variants 2.csv\" target=_blank>120325 HIS3 variants 2.csv</a></td>\n",
    "        <td>Growth rates for yeast strains expressing codon variants of the <i>HIS3</i> gene in different media.</td>\n",
    "    </tr>\n",
    "</table>"
   ]
  },
  {
   "cell_type": "code",
   "execution_count": 1,
   "metadata": {},
   "outputs": [
    {
     "name": "stdout",
     "output_type": "stream",
     "text": [
      "C:\\Users\\Tvon-\\Dropbox\\Python\\18 Codon Selection\\Scripts\n",
      "C:\\Users\\Tvon-\\Dropbox\\Python\\18 Codon Selection\n"
     ]
    }
   ],
   "source": [
    "import pandas as pd\n",
    "import numpy as np\n",
    "import seaborn as sns\n",
    "import matplotlib.pyplot as plt\n",
    "from statsmodels.stats.multicomp import pairwise_tukeyhsd, MultiComparison\n",
    "%cd Scripts\n",
    "%run GR.py\n",
    "%cd .."
   ]
  },
  {
   "cell_type": "code",
   "execution_count": 2,
   "metadata": {
    "collapsed": true
   },
   "outputs": [],
   "source": [
    "GR_His1 = process_GR('Raw Data/120325 HIS3 variants 1.csv', normalise=False, starting_row = 8)\n",
    "GR_His2 = process_GR('Raw Data/120325 HIS3 variants 2.csv', normalise=False, starting_row = 8)"
   ]
  },
  {
   "cell_type": "code",
   "execution_count": 3,
   "metadata": {
    "collapsed": true
   },
   "outputs": [],
   "source": [
    "#join the two datasets\n",
    "GR_His = pd.concat([GR_His1,GR_His2],ignore_index=True)\n",
    "#remove data for emtpy wells\n",
    "GR_His = GR_His.loc[GR_His['Plasmid'] != 'empty']\n",
    "#split factor into separate factors for vector and medium\n",
    "vector,medium = [],[]\n",
    "for row in range(GR_His.shape[0]):\n",
    "    this_factor = GR_His.iloc[row].Plasmid\n",
    "    fact1,fact2 = this_factor.split(':')\n",
    "    vector.append(fact1)\n",
    "    medium.append(fact2)\n",
    "\n",
    "GR_His['Vector'] = vector\n",
    "GR_His['Medium'] = medium"
   ]
  },
  {
   "cell_type": "code",
   "execution_count": 4,
   "metadata": {},
   "outputs": [
    {
     "data": {
      "image/png": "[encoded data removed]",
      "text/plain": [
       "<matplotlib.figure.Figure at 0x22dbaa7e668>"
      ]
     },
     "metadata": {},
     "output_type": "display_data"
    }
   ],
   "source": [
    "#Plot data for the three different media\n",
    "GR_U = GR_His.loc[GR_His['Medium'] == 'U']\n",
    "GR_UH = GR_His.loc[GR_His['Medium'] == 'UH']\n",
    "GR_UHA = GR_His.loc[GR_His['Medium'] == 'UHA']\n",
    "\n",
    "f, axs = plt.subplots(3, sharex=True,sharey=True,figsize=(8,9))\n",
    "\n",
    "sns.set_style('whitegrid')\n",
    "sns.set_palette(['#000000','#555555','#aaaaaa','#dddddd'])\n",
    "\n",
    "sns.stripplot(x='Vector',y='Rel_GR',data=GR_U,jitter=True,dodge=True,order=['C','min','sta','max'], edgecolor = '#000000',linewidth=1,ax=axs[0])\n",
    "axs[0].set_title('-Ura')\n",
    "sns.stripplot(x='Vector',y='Rel_GR',data=GR_UH,jitter=True,dodge=True,order=['C','min','sta','max'], edgecolor = '#000000',linewidth=1,ax=axs[1])\n",
    "axs[1].set_title('-Ura/-His')\n",
    "sns.stripplot(x='Vector',y='Rel_GR',data=GR_UHA,jitter=True,dodge=True,order=['C','min','sta','max'], edgecolor = '#000000',linewidth=1,ax=axs[2])\n",
    "axs[2].set_title('-Ura/-His/+3-AT')\n",
    "\n",
    "plt.subplots_adjust(hspace=0.5)\n",
    "\n",
    "#plt.savefig('Figure 5.svg')\n",
    "\n",
    "plt.show()"
   ]
  },
  {
   "cell_type": "code",
   "execution_count": 5,
   "metadata": {},
   "outputs": [
    {
     "name": "stdout",
     "output_type": "stream",
     "text": [
      "    group1   group2  meandiff   lower   upper  reject\n",
      "0  max:UHA  min:UHA   -0.0423 -0.0607 -0.0240    True\n",
      "1  max:UHA  sta:UHA   -0.0123 -0.0338  0.0091   False\n",
      "2  min:UHA  sta:UHA    0.0300  0.0079  0.0521    True\n"
     ]
    }
   ],
   "source": [
    "#do statistics \n",
    "mc = MultiComparison(GR_UHA['Rel_GR'], GR_UHA['Plasmid'])\n",
    "result = mc.tukeyhsd(alpha=0.001)\n",
    "#recover the results into a data frame \n",
    "result_frame = pd.DataFrame(data=result._results_table.data[1:], columns=result._results_table.data[0])\n",
    "print(result_frame)"
   ]
  },
  {
   "cell_type": "code",
   "execution_count": null,
   "metadata": {
    "collapsed": true
   },
   "outputs": [],
   "source": []
  }
 ],
 "metadata": {
  "kernelspec": {
   "display_name": "Python 3",
   "language": "python",
   "name": "python3"
  },
  "language_info": {
   "codemirror_mode": {
    "name": "ipython",
    "version": 3
   },
   "file_extension": ".py",
   "mimetype": "text/x-python",
   "name": "python",
   "nbconvert_exporter": "python",
   "pygments_lexer": "ipython3",
   "version": "3.6.3"
  }
 },
 "nbformat": 4,
 "nbformat_minor": 2
}
